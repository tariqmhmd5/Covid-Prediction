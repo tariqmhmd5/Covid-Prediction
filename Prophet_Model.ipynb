{
  "nbformat": 4,
  "nbformat_minor": 0,
  "metadata": {
    "colab": {
      "name": "Prophet Model.ipynb",
      "provenance": [],
      "collapsed_sections": [],
      "authorship_tag": "ABX9TyOrLWKD0mWhl7ITQueIPdaa",
      "include_colab_link": true
    },
    "kernelspec": {
      "name": "python3",
      "display_name": "Python 3"
    }
  },
  "cells": [
    {
      "cell_type": "markdown",
      "metadata": {
        "id": "view-in-github",
        "colab_type": "text"
      },
      "source": [
        "<a href=\"https://colab.research.google.com/github/tariqmhmd5/Covid-Prediction/blob/master/Prophet_Model.ipynb\" target=\"_parent\"><img src=\"https://colab.research.google.com/assets/colab-badge.svg\" alt=\"Open In Colab\"/></a>"
      ]
    },
    {
      "cell_type": "code",
      "metadata": {
        "id": "iXjPIlY0cluD",
        "colab_type": "code",
        "colab": {
          "base_uri": "https://localhost:8080/",
          "height": 34
        },
        "outputId": "d9ef98c0-b365-4836-b9b9-1f441df11629"
      },
      "source": [
        "import numpy as np\n",
        "import pandas as pd\n",
        "import matplotlib.pyplot as plt\n",
        "import tensorflow as tf\n",
        "from fbprophet import Prophet\n",
        "import warnings\n",
        "warnings.filterwarnings(\"ignore\")\n",
        "%matplotlib inline\n",
        "print(tf.__version__)"
      ],
      "execution_count": 18,
      "outputs": [
        {
          "output_type": "stream",
          "text": [
            "2.2.0\n"
          ],
          "name": "stdout"
        }
      ]
    },
    {
      "cell_type": "code",
      "metadata": {
        "id": "0p5hC3sxdcZv",
        "colab_type": "code",
        "colab": {}
      },
      "source": [
        "confirmed_df = pd.read_csv('https://raw.githubusercontent.com/CSSEGISandData/COVID-19/master/csse_covid_19_data/csse_covid_19_time_series/time_series_covid19_confirmed_global.csv')\n",
        "deaths_df = pd.read_csv('https://raw.githubusercontent.com/CSSEGISandData/COVID-19/master/csse_covid_19_data/csse_covid_19_time_series/time_series_covid19_deaths_global.csv')\n",
        "recoveries_df = pd.read_csv('https://raw.githubusercontent.com/CSSEGISandData/COVID-19/master/csse_covid_19_data/csse_covid_19_time_series/time_series_covid19_recovered_global.csv')\n",
        "\n",
        "na_columns = (confirmed_df.isna().sum() / confirmed_df.shape[0]) > 0.99\n",
        "na_columns = na_columns[na_columns]\n",
        "\n",
        "confirmed_df = confirmed_df.drop(na_columns.index, axis=1)\n",
        "deaths_df = deaths_df.drop(na_columns.index, axis=1)\n",
        "recoveries_df = recoveries_df.drop(na_columns.index, axis=1)\n",
        "\n",
        "## Tidy up the data\n",
        "confirmed_df = confirmed_df.melt(id_vars=['Country/Region', 'Province/State', 'Lat', 'Long'], var_name='date', value_name='confirmed')\n",
        "deaths_df = deaths_df.melt(id_vars=['Country/Region', 'Province/State', 'Lat', 'Long'], var_name='date', value_name='deaths')\n",
        "recoveries_df = recoveries_df.melt(id_vars=['Country/Region', 'Province/State', 'Lat', 'Long'], var_name='date', value_name='recoveries')\n",
        "\n",
        "confirmed_df['date'] = pd.to_datetime(confirmed_df['date'])\n",
        "deaths_df['date'] = pd.to_datetime(deaths_df['date'])\n",
        "recoveries_df['date'] = pd.to_datetime(recoveries_df['date'])\n",
        "\n",
        "full_df = confirmed_df.merge(recoveries_df).merge(deaths_df)\n",
        "full_df = full_df.rename(columns={'Country/Region': 'Country', 'date': 'Date', 'confirmed': \"Confirmed\", \"recoveries\": \"Recoveries\", \"deaths\": \"Deaths\"})\n",
        "\n",
        "df_india=full_df[full_df['Country']=='India']\n",
        "\n",
        "world_df = full_df.groupby(['Date']).agg({'Confirmed': ['sum'], 'Recoveries': ['sum'], 'Deaths': ['sum']}).reset_index()\n",
        "world_df.columns = world_df.columns.get_level_values(0)\n",
        "\n",
        "def add_rates(df):\n",
        "    df['Confirmed Change'] = df['Confirmed'].diff().shift(-1)\n",
        " \n",
        "    df['Mortality Rate'] = df['Deaths'] / df['Confirmed']\n",
        "    df['Recovery Rate'] = df['Recoveries'] / df['Confirmed']\n",
        "    df['Growth Rate'] = df['Confirmed Change'] / df['Confirmed']\n",
        "    df['Growth Rate Change'] = df['Growth Rate'].diff().shift(-1)\n",
        "    df['Growth Rate Accel'] = df['Growth Rate Change'] / df['Growth Rate']\n",
        "    return df"
      ],
      "execution_count": 0,
      "outputs": []
    },
    {
      "cell_type": "code",
      "metadata": {
        "id": "MUr67z8AdjrN",
        "colab_type": "code",
        "colab": {}
      },
      "source": [
        "world_df = add_rates(world_df)\n",
        "df_india=add_rates(df_india)\n",
        "df_india=df_india[8:]\n",
        "df_india.reset_index(inplace=True,drop=True)"
      ],
      "execution_count": 0,
      "outputs": []
    },
    {
      "cell_type": "code",
      "metadata": {
        "id": "kjx0v6_DgLzB",
        "colab_type": "code",
        "colab": {}
      },
      "source": [
        "df=pd.DataFrame(df_india[['Confirmed','Date']])"
      ],
      "execution_count": 0,
      "outputs": []
    },
    {
      "cell_type": "code",
      "metadata": {
        "id": "U1y3LiExh7Nl",
        "colab_type": "code",
        "colab": {}
      },
      "source": [
        "df.columns=['y','ds']"
      ],
      "execution_count": 0,
      "outputs": []
    },
    {
      "cell_type": "code",
      "metadata": {
        "id": "5R48uC6biBeK",
        "colab_type": "code",
        "colab": {
          "base_uri": "https://localhost:8080/",
          "height": 204
        },
        "outputId": "bc450924-4f53-44d6-8b41-42ec99d82e9d"
      },
      "source": [
        "df.head()"
      ],
      "execution_count": 39,
      "outputs": [
        {
          "output_type": "execute_result",
          "data": {
            "text/html": [
              "<div>\n",
              "<style scoped>\n",
              "    .dataframe tbody tr th:only-of-type {\n",
              "        vertical-align: middle;\n",
              "    }\n",
              "\n",
              "    .dataframe tbody tr th {\n",
              "        vertical-align: top;\n",
              "    }\n",
              "\n",
              "    .dataframe thead th {\n",
              "        text-align: right;\n",
              "    }\n",
              "</style>\n",
              "<table border=\"1\" class=\"dataframe\">\n",
              "  <thead>\n",
              "    <tr style=\"text-align: right;\">\n",
              "      <th></th>\n",
              "      <th>y</th>\n",
              "      <th>ds</th>\n",
              "    </tr>\n",
              "  </thead>\n",
              "  <tbody>\n",
              "    <tr>\n",
              "      <th>0</th>\n",
              "      <td>1</td>\n",
              "      <td>2020-01-30</td>\n",
              "    </tr>\n",
              "    <tr>\n",
              "      <th>1</th>\n",
              "      <td>1</td>\n",
              "      <td>2020-01-31</td>\n",
              "    </tr>\n",
              "    <tr>\n",
              "      <th>2</th>\n",
              "      <td>1</td>\n",
              "      <td>2020-02-01</td>\n",
              "    </tr>\n",
              "    <tr>\n",
              "      <th>3</th>\n",
              "      <td>2</td>\n",
              "      <td>2020-02-02</td>\n",
              "    </tr>\n",
              "    <tr>\n",
              "      <th>4</th>\n",
              "      <td>3</td>\n",
              "      <td>2020-02-03</td>\n",
              "    </tr>\n",
              "  </tbody>\n",
              "</table>\n",
              "</div>"
            ],
            "text/plain": [
              "   y         ds\n",
              "0  1 2020-01-30\n",
              "1  1 2020-01-31\n",
              "2  1 2020-02-01\n",
              "3  2 2020-02-02\n",
              "4  3 2020-02-03"
            ]
          },
          "metadata": {
            "tags": []
          },
          "execution_count": 39
        }
      ]
    },
    {
      "cell_type": "code",
      "metadata": {
        "id": "M225k2exhdO0",
        "colab_type": "code",
        "colab": {
          "base_uri": "https://localhost:8080/",
          "height": 68
        },
        "outputId": "e614df62-471c-4d6d-9264-43719bf973f9"
      },
      "source": [
        "prophet_basic = Prophet()\n",
        "prophet_basic.fit(df)"
      ],
      "execution_count": 40,
      "outputs": [
        {
          "output_type": "stream",
          "text": [
            "INFO:fbprophet:Disabling yearly seasonality. Run prophet with yearly_seasonality=True to override this.\n",
            "INFO:fbprophet:Disabling daily seasonality. Run prophet with daily_seasonality=True to override this.\n"
          ],
          "name": "stderr"
        },
        {
          "output_type": "execute_result",
          "data": {
            "text/plain": [
              "<fbprophet.forecaster.Prophet at 0x7fb412b1a4e0>"
            ]
          },
          "metadata": {
            "tags": []
          },
          "execution_count": 40
        }
      ]
    },
    {
      "cell_type": "code",
      "metadata": {
        "id": "Uq0bIb-jhqm6",
        "colab_type": "code",
        "colab": {
          "base_uri": "https://localhost:8080/",
          "height": 111
        },
        "outputId": "47540531-e425-485b-a950-579d02c528ea"
      },
      "source": [
        "future= prophet_basic.make_future_dataframe(periods=30)\n",
        "future.tail(2)"
      ],
      "execution_count": 43,
      "outputs": [
        {
          "output_type": "execute_result",
          "data": {
            "text/html": [
              "<div>\n",
              "<style scoped>\n",
              "    .dataframe tbody tr th:only-of-type {\n",
              "        vertical-align: middle;\n",
              "    }\n",
              "\n",
              "    .dataframe tbody tr th {\n",
              "        vertical-align: top;\n",
              "    }\n",
              "\n",
              "    .dataframe thead th {\n",
              "        text-align: right;\n",
              "    }\n",
              "</style>\n",
              "<table border=\"1\" class=\"dataframe\">\n",
              "  <thead>\n",
              "    <tr style=\"text-align: right;\">\n",
              "      <th></th>\n",
              "      <th>ds</th>\n",
              "    </tr>\n",
              "  </thead>\n",
              "  <tbody>\n",
              "    <tr>\n",
              "      <th>164</th>\n",
              "      <td>2020-07-12</td>\n",
              "    </tr>\n",
              "    <tr>\n",
              "      <th>165</th>\n",
              "      <td>2020-07-13</td>\n",
              "    </tr>\n",
              "  </tbody>\n",
              "</table>\n",
              "</div>"
            ],
            "text/plain": [
              "            ds\n",
              "164 2020-07-12\n",
              "165 2020-07-13"
            ]
          },
          "metadata": {
            "tags": []
          },
          "execution_count": 43
        }
      ]
    },
    {
      "cell_type": "code",
      "metadata": {
        "id": "GCnG4tVkiQJq",
        "colab_type": "code",
        "colab": {}
      },
      "source": [
        "forecast=prophet_basic.predict(future)"
      ],
      "execution_count": 0,
      "outputs": []
    },
    {
      "cell_type": "code",
      "metadata": {
        "id": "U9XvjReNijHI",
        "colab_type": "code",
        "colab": {
          "base_uri": "https://localhost:8080/",
          "height": 441
        },
        "outputId": "122eccdc-29ee-4d26-cc31-f63ce15f5130"
      },
      "source": [
        "from fbprophet.plot import plot_plotly\n",
        "fig1 =prophet_basic.plot(forecast)"
      ],
      "execution_count": 45,
      "outputs": [
        {
          "output_type": "display_data",
          "data": {
            "image/png": "[encoded data removed]",
            "text/plain": [
              "<Figure size 720x432 with 1 Axes>"
            ]
          },
          "metadata": {
            "tags": []
          }
        }
      ]
    },
    {
      "cell_type": "code",
      "metadata": {
        "id": "KnMkgyCzjXkD",
        "colab_type": "code",
        "colab": {}
      },
      "source": [
        ""
      ],
      "execution_count": 0,
      "outputs": []
    }
  ]
}